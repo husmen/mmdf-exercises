{
 "cells": [
  {
   "cell_type": "markdown",
   "metadata": {},
   "source": [
    "Before you turn this problem in, make sure everything runs as expected. First, **restart the kernel** (in the menubar, select Kernel$\\rightarrow$Restart) and then **run all cells** (in the menubar, select Cell$\\rightarrow$Run All).\n",
    "\n",
    "If a variable is given to you, give your answer to that variable. In case of multiple choice questions, answer to the given variable. Make sure your variable has a **string value** and it contains only the letter of your choice. For example if you think that choice b is the correct choice, and the given variable is answer, your answer should look like this:\n",
    "\n",
    "answer = 'b'\n",
    "\n",
    "or \n",
    "\n",
    "answer = 'B'\n",
    "\n",
    "If you need to read a file for a task, datafiles, such as .csv or .txt files are found in data subfolder. This can be accessed using data/filename.extension. In case of image, they are found in subfolder images. \n",
    "\n",
    "Make sure you fill in any place that says `YOUR CODE HERE` or \"YOUR ANSWER HERE\", as well as your name below:"
   ]
  },
  {
   "cell_type": "code",
   "execution_count": 1,
   "metadata": {},
   "outputs": [],
   "source": [
    "NAME = \"Houssem Menhour\""
   ]
  },
  {
   "cell_type": "markdown",
   "metadata": {},
   "source": [
    "---"
   ]
  },
  {
   "cell_type": "markdown",
   "metadata": {},
   "source": [
    "# Multi-Modal Data Fusion - Exercise 2: Common representation"
   ]
  },
  {
   "cell_type": "markdown",
   "metadata": {
    "deletable": false,
    "editable": false,
    "nbgrader": {
     "cell_type": "markdown",
     "checksum": "59dd1185b4f90adfa4a002d97808589f",
     "grade": false,
     "grade_id": "cell-ef8f152a42f34e93",
     "locked": true,
     "schema_version": 3,
     "solution": false,
     "task": false
    }
   },
   "source": [
    "\n",
    "## Learning goals\n",
    "\n",
    "After this exercise, you should\n",
    "  \n",
    "- be able to implement PCA on your own and use it from sklearn\n",
    "- be able to implement LDA algorithm\n",
    "- be able to implement bootstrapping algorithm\n",
    "- know how to apply (Gradient) Boosting algorithm for classification problem\n",
    "\n",
    "\n",
    "\n",
    "## Relevant lecture\n",
    "\n",
    "Lecture 3.\n",
    "\n",
    "## Relevant chapters in course book\n",
    "\n",
    "Chapter 4.\n",
    "\n",
    "## Additional material\n",
    "\n",
    "- Scikit-learn https://scikit-learn.org/stable/\n",
    "- Pandas https://pandas.pydata.org/docs/\n",
    "- numpy https://numpy.org/doc/stable/"
   ]
  },
  {
   "cell_type": "markdown",
   "metadata": {
    "deletable": false,
    "editable": false,
    "nbgrader": {
     "cell_type": "markdown",
     "checksum": "c55e7b4d2ae388071d4638812d2768c1",
     "grade": false,
     "grade_id": "cell-1f5a243760ff7346",
     "locked": true,
     "schema_version": 3,
     "solution": false,
     "task": false
    }
   },
   "source": [
    "# Assignments"
   ]
  },
  {
   "cell_type": "markdown",
   "metadata": {
    "deletable": false,
    "editable": false,
    "nbgrader": {
     "cell_type": "markdown",
     "checksum": "516e1589c85d25766df6199e451f189a",
     "grade": false,
     "grade_id": "cell-4855eb9b08d0e548",
     "locked": true,
     "schema_version": 3,
     "solution": false,
     "task": false
    }
   },
   "source": [
    "<a id='Task1.1'></a>\n",
    "<div class=\" alert alert-warning\">\n",
    "    <b>Problem 1: Bootstrapping</b>\n",
    "\n",
    "<p>Implement bootstrapping (see Lecture 3) to the function stub below. You may assume that D is the dataset given as Python list. M is the number of resamples drawn and N is the number of observations in the original dataset. The function should return MxN matrix where each row contains one bootstrapped sample. \n",
    "    \n",
    "Use of numpy is recommended, especially size() and tile(). Try to use as few for loops as possible.</p>\n",
    "\n",
    "</div>"
   ]
  },
  {
   "cell_type": "code",
   "execution_count": 2,
   "metadata": {
    "deletable": false,
    "nbgrader": {
     "cell_type": "code",
     "checksum": "e43934249fc2c1fcedffe98340063ab9",
     "grade": false,
     "grade_id": "problem_1_answer",
     "locked": false,
     "schema_version": 3,
     "solution": true,
     "task": false
    }
   },
   "outputs": [],
   "source": [
    "import numpy as np\n",
    "\n",
    "def bootstrap(D,M):\n",
    "    # Implement here\n",
    "    np.random.seed(0) #Do not change or remove\n",
    "    # YOUR CODE HERE\n",
    "    N = np.size(D)\n",
    "    f = lambda x: np.random.choice(x, N, replace=True)\n",
    "    D_tiles = np.tile(D,(M,1))\n",
    "    D_samples = np.apply_along_axis(f, 1, D_tiles)\n",
    "    return D_samples"
   ]
  },
  {
   "cell_type": "code",
   "execution_count": 3,
   "metadata": {
    "deletable": false,
    "editable": false,
    "nbgrader": {
     "cell_type": "code",
     "checksum": "5398eea296e2b15a10e2a3a3be0e2d9f",
     "grade": true,
     "grade_id": "problem_1_test",
     "locked": true,
     "points": 0.5,
     "schema_version": 3,
     "solution": false,
     "task": false
    }
   },
   "outputs": [],
   "source": [
    "# Your points for the Problem 1 will be given in this cell. Dont modify it."
   ]
  },
  {
   "cell_type": "markdown",
   "metadata": {
    "deletable": false,
    "editable": false,
    "nbgrader": {
     "cell_type": "markdown",
     "checksum": "d84933e12f48ce7d5752eb215c75d5c0",
     "grade": false,
     "grade_id": "cell-8b88c9f08163cb07",
     "locked": true,
     "schema_version": 3,
     "solution": false,
     "task": false
    }
   },
   "source": [
    "Sample usage of the bootstrapping algorithm."
   ]
  },
  {
   "cell_type": "code",
   "execution_count": 4,
   "metadata": {},
   "outputs": [
    {
     "data": {
      "text/plain": [
       "array([[ 6,  1,  4,  4,  8, 10,  4,  6,  3,  5],\n",
       "       [ 8,  7,  9,  9,  2,  7,  8,  8,  9,  2],\n",
       "       [ 6, 10,  9, 10,  5,  4,  1,  4,  6,  1]])"
      ]
     },
     "execution_count": 4,
     "metadata": {},
     "output_type": "execute_result"
    }
   ],
   "source": [
    "D = [1, 2, 3, 4, 5, 6, 7, 8, 9,10]\n",
    "bootstrap(D,3)"
   ]
  },
  {
   "cell_type": "markdown",
   "metadata": {
    "deletable": false,
    "editable": false,
    "nbgrader": {
     "cell_type": "markdown",
     "checksum": "bf767f3d64cc47ad1c90a6b90dc4de53",
     "grade": false,
     "grade_id": "cell-fc1db6630e031046",
     "locked": true,
     "schema_version": 3,
     "solution": false,
     "task": false
    }
   },
   "source": [
    "<a id='Task1.1'></a>\n",
    "<div class=\" alert alert-warning\">\n",
    "    <b>Problem 2: PCA</b>\n",
    "\n",
    "<p>Implement PCA algorithm as described in Lecture 3. Use data from pca_data.csv. Compute $\\mu$ and $\\Sigma$ as explained in lecture slides. Find eigenvalues and eigenvectors of $\\Sigma$. Pick the first principal component which corresponds to largest eigenvalue. Plot the data and first principal component in same figure. The line depicting the first principal component should start from mean $\\mu$ and end in $\\mu\\pm u_1$, where $u_1$ is the first principal component.</p>\n",
    "    \n",
    "<b>Remember to save results to following variables:</b>\n",
    "  <ul style=\"margin-top:-5px;\">\n",
    "    <li>mu</li>\n",
    "    <li>sigma</li>\n",
    "    <li>U</li>\n",
    "     <li>V</li>\n",
    "    <li>vec1</li>\n",
    "    <li>vec2</li>\n",
    "  </ul>\n",
    "\n",
    "</div>"
   ]
  },
  {
   "cell_type": "code",
   "execution_count": 5,
   "metadata": {},
   "outputs": [],
   "source": [
    "import numpy as np\n",
    "import matplotlib.pyplot as plt"
   ]
  },
  {
   "cell_type": "code",
   "execution_count": 6,
   "metadata": {
    "deletable": false,
    "nbgrader": {
     "cell_type": "code",
     "checksum": "deb94e31d8e38412ede1ddcd9827177d",
     "grade": false,
     "grade_id": "cell-a49152fbe19dc185",
     "locked": false,
     "schema_version": 3,
     "solution": true,
     "task": false
    },
    "scrolled": false
   },
   "outputs": [
    {
     "data": {
      "text/plain": [
       "[<matplotlib.lines.Line2D at 0x7f20fc08cbb0>]"
      ]
     },
     "execution_count": 6,
     "metadata": {},
     "output_type": "execute_result"
    },
    {
     "data": {
      "image/png": "[encoded data removed]",
      "text/plain": [
       "<Figure size 504x504 with 1 Axes>"
      ]
     },
     "metadata": {
      "needs_background": "light"
     },
     "output_type": "display_data"
    }
   ],
   "source": [
    "# YOUR CODE HERE\n",
    "# import pandas as pd\n",
    "# data = pd.read_csv('data/pca_data.csv', header=None).to_numpy()\n",
    "X = np.loadtxt('data/pca_data.csv', delimiter=',', dtype=float)\n",
    "n_components = 1\n",
    "\n",
    "mu = np.mean(X, axis = 0)\n",
    "sigma = np.cov((X - mu).T)\n",
    "u, s, vh = np.linalg.svd(sigma)\n",
    "#print(u, '\\n', s, '\\n', vh, '\\n')\n",
    "\n",
    "U = s[0:n_components]**2 #Eigenvalues\n",
    "V = u[:, :n_components] #Eigenvectors\n",
    "vec1 = mu.reshape((2,1)) + V #mu + u\n",
    "vec2 = mu.reshape((2,1)) - V #mu - u\n",
    "vecs = np.concatenate([vec1, vec2], axis=1)\n",
    "#print(mu, '\\n', V, '\\n', vecs)\n",
    "\n",
    "plt.figure(figsize=(7, 7))\n",
    "plt.scatter(X[:,0], X[:,1])\n",
    "plt.plot(vecs[0], vecs[1], linestyle=\"--\")"
   ]
  },
  {
   "cell_type": "code",
   "execution_count": 7,
   "metadata": {
    "deletable": false,
    "editable": false,
    "nbgrader": {
     "cell_type": "code",
     "checksum": "199a5a97c486991215ff6576414a66ea",
     "grade": true,
     "grade_id": "cell-5b73a128275a0045",
     "locked": true,
     "points": 0.5,
     "schema_version": 3,
     "solution": false,
     "task": false
    }
   },
   "outputs": [],
   "source": [
    "# Your points for the mean calculation will be given in this cell. Do not modify it."
   ]
  },
  {
   "cell_type": "code",
   "execution_count": 8,
   "metadata": {
    "deletable": false,
    "editable": false,
    "nbgrader": {
     "cell_type": "code",
     "checksum": "edc88c5a19f0186cc2e276eaf1f04776",
     "grade": true,
     "grade_id": "cell-cb6cecc2813c98ea",
     "locked": true,
     "points": 0.5,
     "schema_version": 3,
     "solution": false,
     "task": false
    }
   },
   "outputs": [],
   "source": [
    "# Your points for the sigma calculation will be given in this cell. Do not modify it."
   ]
  },
  {
   "cell_type": "code",
   "execution_count": 9,
   "metadata": {
    "deletable": false,
    "editable": false,
    "nbgrader": {
     "cell_type": "code",
     "checksum": "295b38600524e431d670d58679613c46",
     "grade": true,
     "grade_id": "cell-934df95be3d6b691",
     "locked": true,
     "points": 0.5,
     "schema_version": 3,
     "solution": false,
     "task": false
    }
   },
   "outputs": [],
   "source": [
    "# Your points for the eigen vectors calculation will be given in this cell. Do not modify it."
   ]
  },
  {
   "cell_type": "code",
   "execution_count": 10,
   "metadata": {
    "deletable": false,
    "editable": false,
    "nbgrader": {
     "cell_type": "code",
     "checksum": "5d7a82c4bd19f94350b142365281fe54",
     "grade": true,
     "grade_id": "cell-691becb386723f27",
     "locked": true,
     "points": 0.5,
     "schema_version": 3,
     "solution": false,
     "task": false
    }
   },
   "outputs": [],
   "source": [
    "# Your points for the eigen values calculation will be given in this cell. Do not modify it."
   ]
  },
  {
   "cell_type": "code",
   "execution_count": 11,
   "metadata": {
    "deletable": false,
    "editable": false,
    "nbgrader": {
     "cell_type": "code",
     "checksum": "e088b8c41583468b36c7cc0053bd07d1",
     "grade": true,
     "grade_id": "cell-f885401156abf42e",
     "locked": true,
     "points": 1,
     "schema_version": 3,
     "solution": false,
     "task": false
    }
   },
   "outputs": [],
   "source": [
    "# Your points for the vec1 and vec2 calculation will be given in this cell. Do not modify it"
   ]
  },
  {
   "cell_type": "markdown",
   "metadata": {
    "deletable": false,
    "editable": false,
    "nbgrader": {
     "cell_type": "markdown",
     "checksum": "b3ce504af708f7ba03f8dd43cd188371",
     "grade": false,
     "grade_id": "cell-3beb549f5e28a283",
     "locked": true,
     "schema_version": 3,
     "solution": false,
     "task": false
    }
   },
   "source": [
    "<a id='Task1.1'></a>\n",
    "<div class=\" alert alert-warning\">\n",
    "    <b>Problem 3: PCA using sklearn</b>\n",
    "\n",
    "<p>Consult documentation of sklearn on how to perform PCA using sklearn. Perform PCA using sklearn on same dataset as in Problem 2. Pick the model and train it (fit it) using same data as above.  Save first principal component to components variable (hint: its the components_ attribute of the pca object).\n",
    "\n",
    "Do you get the same results? If not, what might be a reason for it?</p>\n",
    "\n",
    "\n",
    "    \n",
    "</div>"
   ]
  },
  {
   "cell_type": "code",
   "execution_count": 12,
   "metadata": {
    "deletable": false,
    "nbgrader": {
     "cell_type": "code",
     "checksum": "c4e2ec9cf502ae4f0db7c0ee37e84e99",
     "grade": false,
     "grade_id": "cell-3677acc4f886c323",
     "locked": false,
     "schema_version": 3,
     "solution": true,
     "task": false
    }
   },
   "outputs": [
    {
     "data": {
      "text/plain": [
       "True"
      ]
     },
     "execution_count": 12,
     "metadata": {},
     "output_type": "execute_result"
    }
   ],
   "source": [
    "from sklearn.decomposition import PCA \n",
    "pca = PCA(n_components=1)\n",
    "# YOUR CODE HERE\n",
    "pca.fit(X)\n",
    "pca.transform(X)\n",
    "components = pca.components_\n",
    "np.allclose(components.flatten(), V.flatten())"
   ]
  },
  {
   "cell_type": "code",
   "execution_count": 13,
   "metadata": {
    "deletable": false,
    "editable": false,
    "nbgrader": {
     "cell_type": "code",
     "checksum": "59e6e52c7eb4ad6c9301e70d319e487a",
     "grade": true,
     "grade_id": "cell-1853e57148b5462f",
     "locked": true,
     "points": 0.8,
     "schema_version": 3,
     "solution": false,
     "task": false
    }
   },
   "outputs": [],
   "source": [
    "# Your points for the Problem 3 will be given in this cell. Dont modify it."
   ]
  },
  {
   "cell_type": "markdown",
   "metadata": {
    "deletable": false,
    "editable": false,
    "nbgrader": {
     "cell_type": "markdown",
     "checksum": "4736ecd62aab97ee245573dc67b24bda",
     "grade": false,
     "grade_id": "cell-e3a604d5b7ef028a",
     "locked": true,
     "schema_version": 3,
     "solution": false,
     "task": false
    }
   },
   "source": [
    "#### Compare results from Problem 2, and 3. Do you get the same results? If not, what might be a reason for it?\n"
   ]
  },
  {
   "cell_type": "markdown",
   "metadata": {
    "deletable": false,
    "nbgrader": {
     "cell_type": "markdown",
     "checksum": "6539e2c73c914a4fbcae1e5dd6bee228",
     "grade": true,
     "grade_id": "cell-92782484edc50c1a",
     "locked": false,
     "points": 0.2,
     "schema_version": 3,
     "solution": true,
     "task": false
    }
   },
   "source": [
    "The results are similar"
   ]
  },
  {
   "cell_type": "markdown",
   "metadata": {
    "deletable": false,
    "editable": false,
    "nbgrader": {
     "cell_type": "markdown",
     "checksum": "df1ece92034dd59bfee9d49622b64fc3",
     "grade": false,
     "grade_id": "cell-c8545261516a0580",
     "locked": true,
     "schema_version": 3,
     "solution": false,
     "task": false
    }
   },
   "source": [
    "<a id='Task1.1'></a>\n",
    "<div class=\" alert alert-warning\">\n",
    "    <b>Problem 4: LDA</b>\n",
    "\n",
    "<p>Implement LDA algorithm as described in Lecture 3. Use data from lda_data.csv. The data consists of x coordinate, y coordinate and class label (0 or 1). Compute the quantities appearing in lecture slides. The LDA projection operator $U$ consists of single column which is the eigenvector of $H$ corresponding to the largest eigenvalue. Plot the data points with different colors for each class and the LDA subspace (line) in same figure. The line depicting the LDA subspace should start from mean $\\mu_G$ and end in $\\mu_G\\pm u$, where $u$ is the direction of LDA subspace.</p>\n",
    "\n",
    "<b>Remember to save results to following variables:</b>\n",
    "  <ul style=\"margin-top:-5px;\">\n",
    "    <li>mu0, mu1, muG</li>\n",
    "    <li>sigma0, sigma1</li>\n",
    "     <li>sigmaW, sigmaB</li>\n",
    "    <li>H, U, V, u</li>\n",
    "    <li>vec1, vec2</li>\n",
    "  </ul>\n",
    "\n",
    "</div>"
   ]
  },
  {
   "cell_type": "code",
   "execution_count": 14,
   "metadata": {
    "deletable": false,
    "nbgrader": {
     "cell_type": "code",
     "checksum": "97fcfa725e6386efadafde2be66f4972",
     "grade": false,
     "grade_id": "cell-b9ab8a437fdba084",
     "locked": false,
     "schema_version": 3,
     "solution": true,
     "task": false
    },
    "scrolled": false
   },
   "outputs": [
    {
     "data": {
      "text/plain": [
       "[<matplotlib.lines.Line2D at 0x7f20ec2dd3d0>]"
      ]
     },
     "execution_count": 14,
     "metadata": {},
     "output_type": "execute_result"
    },
    {
     "data": {
      "image/png": "[encoded data removed]",
      "text/plain": [
       "<Figure size 504x504 with 1 Axes>"
      ]
     },
     "metadata": {
      "needs_background": "light"
     },
     "output_type": "display_data"
    }
   ],
   "source": [
    "# See Lecture 3 notes \n",
    "\n",
    "# YOUR CODE HERE\n",
    "X = np.loadtxt('data/lda_data.csv', delimiter=',', dtype=float)\n",
    "X0 = X[X[:,2]==0][:,:2]\n",
    "X1 = X[X[:,2]==0][:,:2]\n",
    "\n",
    "mu0 = np.mean(X0, axis = 0)\n",
    "mu1 = np.mean(X1, axis = 0)\n",
    "muG = np.mean(X[:,:2], axis = 0) \n",
    "# muG = (X0.shape[0] * mu0 + X1.shape[0] * mu1)/X.shape[0]\n",
    "\n",
    "muDiff0 = mu0 - muG\n",
    "muDiff1 = mu1 - muG\n",
    "\n",
    "sigma0 = np.cov((X0 - mu0).T)\n",
    "sigma1 = np.cov((X1 - mu1).T)\n",
    "sigmaW = (X0.shape[0] * sigma0 + X1.shape[0] * sigma1)/X.shape[0]\n",
    "sigmaB = X0.shape[0] * np.cov(muDiff0) + X1.shape[0] * np.cov(muDiff1)\n",
    "#sigmaB = (X0.shape[0] * np.dot(muDiff0.reshape((-1, 1)), muDiff0.reshape((-1, 1)).T) + X1.shape[0] * np.dot(muDiff1.reshape((-1, 1)), muDiff1.reshape((-1, 1)).T))/X.shape[0]\n",
    "\n",
    "\n",
    "H = np.linalg.inv(sigmaW)*sigmaB\n",
    "\n",
    "U, V = np.linalg.eig(H)\n",
    "u = V[:, 0]\n",
    "\n",
    "vec1 = muG + u #muG + u\n",
    "vec2 = muG - u #muG - u\n",
    "vecs = np.stack([vec1, vec2], axis=0).T\n",
    "\n",
    "plt.figure(figsize=(7, 7))\n",
    "plt.scatter(X[:,0], X[:,1], c=X[:,2])\n",
    "plt.plot(vecs[0], vecs[1], linestyle=\"--\")"
   ]
  },
  {
   "cell_type": "code",
   "execution_count": 15,
   "metadata": {
    "deletable": false,
    "editable": false,
    "nbgrader": {
     "cell_type": "code",
     "checksum": "b5b010c46969768571ff5e81092f4f4e",
     "grade": true,
     "grade_id": "cell-4398adfd940f7844",
     "locked": true,
     "points": 0.5,
     "schema_version": 3,
     "solution": false,
     "task": false
    }
   },
   "outputs": [],
   "source": [
    "# Your points for the mean calculations will be given in this cell. Dont modify it."
   ]
  },
  {
   "cell_type": "code",
   "execution_count": 16,
   "metadata": {
    "deletable": false,
    "editable": false,
    "nbgrader": {
     "cell_type": "code",
     "checksum": "4406aa1b5392e07b975e7ada1f18c191",
     "grade": true,
     "grade_id": "cell-7d086a9dd61495b2",
     "locked": true,
     "points": 0.5,
     "schema_version": 3,
     "solution": false,
     "task": false
    }
   },
   "outputs": [],
   "source": [
    "# Your points for the sigma calculations will be given in this cell. Dont modify it."
   ]
  },
  {
   "cell_type": "code",
   "execution_count": 17,
   "metadata": {
    "deletable": false,
    "editable": false,
    "nbgrader": {
     "cell_type": "code",
     "checksum": "62a797a6f25f0ae15970dde2552a9037",
     "grade": true,
     "grade_id": "cell-afb5c89e92e2baa7",
     "locked": true,
     "points": 0.5,
     "schema_version": 3,
     "solution": false,
     "task": false
    }
   },
   "outputs": [],
   "source": [
    "# Your points for the H matrix calculation will be given in this cell. Dont modify it."
   ]
  },
  {
   "cell_type": "code",
   "execution_count": 18,
   "metadata": {
    "deletable": false,
    "editable": false,
    "nbgrader": {
     "cell_type": "code",
     "checksum": "f1166692250d75c715c47930866e3569",
     "grade": true,
     "grade_id": "cell-3e021d1aad12f587",
     "locked": true,
     "points": 0.5,
     "schema_version": 3,
     "solution": false,
     "task": false
    }
   },
   "outputs": [],
   "source": [
    "# Your points for the eigen values calculation will be given in this cell. Dont modify it."
   ]
  },
  {
   "cell_type": "code",
   "execution_count": 19,
   "metadata": {
    "deletable": false,
    "editable": false,
    "nbgrader": {
     "cell_type": "code",
     "checksum": "7afdb4c6edb2f6a0667bd7ee49e7ddc6",
     "grade": true,
     "grade_id": "cell-ddd826838f4d701a",
     "locked": true,
     "points": 0.5,
     "schema_version": 3,
     "solution": false,
     "task": false
    }
   },
   "outputs": [],
   "source": [
    "# Your points for the eigen vectors calculation will be given in this cell. Dont modify it."
   ]
  },
  {
   "cell_type": "code",
   "execution_count": 20,
   "metadata": {
    "deletable": false,
    "editable": false,
    "nbgrader": {
     "cell_type": "code",
     "checksum": "3a54ae3db2b14f5c07026f3d3be591be",
     "grade": true,
     "grade_id": "cell-05d94dc9390746fd",
     "locked": true,
     "points": 0.5,
     "schema_version": 3,
     "solution": false,
     "task": false
    }
   },
   "outputs": [],
   "source": [
    "# Your points for the vec_1 and vec_2 calculations will be given in this cell. Dont modify it."
   ]
  },
  {
   "cell_type": "markdown",
   "metadata": {
    "deletable": false,
    "editable": false,
    "nbgrader": {
     "cell_type": "markdown",
     "checksum": "81565dd6a4e1afaee2ffec0406986557",
     "grade": false,
     "grade_id": "cell-543c124d2c6ba006",
     "locked": true,
     "schema_version": 3,
     "solution": false,
     "task": false
    }
   },
   "source": [
    "<a id='Task1.1'></a>\n",
    "<div class=\" alert alert-warning\">\n",
    "    <b>Problem 5: Boosting</b>\n",
    "\n",
    "<p>Use the tab-separated(!) file wifi_localization.txt. The data allows to determine indoor room location from wifi signal strenghts. Last column of the file contains class labels of rooms while the first seven columns contains signal strengths of mobile phones. Split the dataset into training (70%), validation (15%) and testing sets (15%). Train GradientBoostingClassifier from sklearn using n_estimators between 1-40. Consult documentation of sklearn (or Google) on how to do this. Compute the validation score on validation set using score(). Plot scores against n. Pick the value for n giving highest score and train the model using training data. If there are multiple n with same (highest) score, choose the smallest n. For that n, plot confusion matrix for testing set.</p>\n",
    "\n",
    "<p>Use random_state = 0 in all functions that have random_state as a parameter (train_test_split and GradientBoostingClassifier). Do not change learning rate, or give learning_rate = 0.1 as a parameter.</p>\n",
    "    \n",
    "<b>Remember to save results to following variables:</b>\n",
    "  <ul style=\"margin-top:-5px;\">\n",
    "    <li>scores</li>\n",
    "    <li>best_score</li>\n",
    "     <li>ypred</li>\n",
    "    <li>matrix</li>\n",
    "  </ul>\n",
    "</div>"
   ]
  },
  {
   "cell_type": "code",
   "execution_count": 21,
   "metadata": {
    "deletable": false,
    "nbgrader": {
     "cell_type": "code",
     "checksum": "dccac98a70262241ad9a504e87a18780",
     "grade": false,
     "grade_id": "cell-e18cb50d0f4272d9",
     "locked": false,
     "schema_version": 3,
     "solution": true,
     "task": false
    }
   },
   "outputs": [
    {
     "data": {
      "image/png": "[encoded data removed]",
      "text/plain": [
       "<Figure size 432x288 with 2 Axes>"
      ]
     },
     "metadata": {
      "needs_background": "light"
     },
     "output_type": "display_data"
    }
   ],
   "source": [
    "#Use random_state = 0 in all functions with that parameter\n",
    "\n",
    "# YOUR CODE HERE\n",
    "from sklearn.ensemble import GradientBoostingClassifier\n",
    "from sklearn.model_selection import train_test_split\n",
    "from sklearn.metrics import confusion_matrix, ConfusionMatrixDisplay\n",
    "\n",
    "data = np.loadtxt('data/wifi_localization.txt', delimiter='\\t')\n",
    "X = data[:,:7]\n",
    "y = data[:,7]\n",
    "\n",
    "X_train, X_test, y_train, y_test = train_test_split(X, y, test_size=0.3, random_state=0)\n",
    "X_valid, X_test, y_valid, y_test = train_test_split(X_test, y_test, test_size=0.5, random_state=0)\n",
    "\n",
    "scores = [] # Array of size 39 (range 1-40) with score values. For index i score is calculated with n_estimators=i\n",
    "\n",
    "for i in range(1, 40):\n",
    "    clf = GradientBoostingClassifier(n_estimators=i, random_state=0).fit(X_train, y_train)\n",
    "    scores.append(clf.score(X_valid, y_valid))\n",
    "    \n",
    "best_score = scores.index(max(scores)) + 1 # The index (n_estimators) of scores with the largest value (If several, choose smallest n)\n",
    "\n",
    "# Create new gradient boosting classifier with n_estimators = best_score\n",
    "clf = GradientBoostingClassifier(n_estimators=best_score, random_state=0).fit(X_train, y_train)\n",
    "\n",
    "ypred = clf.predict(X_test) # Predict class for test set \n",
    "\n",
    "matrix = confusion_matrix(y_test, ypred) # Confusion matrix for testing set\n",
    "\n",
    "disp = ConfusionMatrixDisplay(matrix)\n",
    "disp.plot()\n",
    "plt.show()"
   ]
  },
  {
   "cell_type": "code",
   "execution_count": 22,
   "metadata": {
    "deletable": false,
    "editable": false,
    "nbgrader": {
     "cell_type": "code",
     "checksum": "ad55df53b1fe2c98d864e914e87f48e4",
     "grade": true,
     "grade_id": "cell-3efe690f6c8b8f1b",
     "locked": true,
     "points": 0.75,
     "schema_version": 3,
     "solution": false,
     "task": false
    }
   },
   "outputs": [],
   "source": [
    "# Your points for the Problem 5 confusion matrix will be given in this cell. Dont modify it."
   ]
  },
  {
   "cell_type": "code",
   "execution_count": 23,
   "metadata": {
    "deletable": false,
    "editable": false,
    "nbgrader": {
     "cell_type": "code",
     "checksum": "9bf66fc68affdeba46100b37d0f65ced",
     "grade": true,
     "grade_id": "cell-49d5e5e29751723d",
     "locked": true,
     "points": 0.75,
     "schema_version": 3,
     "solution": false,
     "task": false
    }
   },
   "outputs": [],
   "source": [
    "# Your points for the Problem 5 predictions will be given in this cell. Dont modify it."
   ]
  },
  {
   "cell_type": "code",
   "execution_count": 24,
   "metadata": {
    "deletable": false,
    "editable": false,
    "nbgrader": {
     "cell_type": "code",
     "checksum": "d79f33d2e51a30d1aa3b58a0fb80fabe",
     "grade": true,
     "grade_id": "cell-50a54e1e5c02907b",
     "locked": true,
     "points": 0.75,
     "schema_version": 3,
     "solution": false,
     "task": false
    }
   },
   "outputs": [],
   "source": [
    "# Your points for the Problem 5 scores will be given in this cell. Dont modify it."
   ]
  },
  {
   "cell_type": "code",
   "execution_count": 25,
   "metadata": {
    "deletable": false,
    "editable": false,
    "nbgrader": {
     "cell_type": "code",
     "checksum": "252987ad805dd37452d8e14bf4b70bc7",
     "grade": true,
     "grade_id": "cell-4625f19886acb505",
     "locked": true,
     "points": 0.25,
     "schema_version": 3,
     "solution": false,
     "task": false
    }
   },
   "outputs": [],
   "source": [
    "# Your points for the Problem 5 best score will be given in this cell. Dont modify it."
   ]
  }
 ],
 "metadata": {
  "kernelspec": {
   "display_name": "Python 3 (ipykernel)",
   "language": "python",
   "name": "python3"
  },
  "language_info": {
   "codemirror_mode": {
    "name": "ipython",
    "version": 3
   },
   "file_extension": ".py",
   "mimetype": "text/x-python",
   "name": "python",
   "nbconvert_exporter": "python",
   "pygments_lexer": "ipython3",
   "version": "3.9.12"
  },
  "nbdime-conflicts": {
   "local_diff": [
    {
     "diff": [
      {
       "diff": [
        {
         "diff": [
          {
           "key": 4,
           "op": "addrange",
           "valuelist": "3"
          },
          {
           "key": 4,
           "length": 1,
           "op": "removerange"
          }
         ],
         "key": 0,
         "op": "patch"
        }
       ],
       "key": "version",
       "op": "patch"
      }
     ],
     "key": "language_info",
     "op": "patch"
    }
   ],
   "remote_diff": [
    {
     "diff": [
      {
       "diff": [
        {
         "diff": [
          {
           "key": 4,
           "op": "addrange",
           "valuelist": "4"
          },
          {
           "key": 4,
           "length": 1,
           "op": "removerange"
          }
         ],
         "key": 0,
         "op": "patch"
        }
       ],
       "key": "version",
       "op": "patch"
      }
     ],
     "key": "language_info",
     "op": "patch"
    }
   ]
  },
  "toc": {
   "base_numbering": 1,
   "nav_menu": {},
   "number_sections": false,
   "sideBar": true,
   "skip_h1_title": false,
   "title_cell": "Table of Contents",
   "title_sidebar": "Contents",
   "toc_cell": false,
   "toc_position": {
    "height": "507.275px",
    "left": "23.975px",
    "top": "145.5px",
    "width": "318px"
   },
   "toc_section_display": true,
   "toc_window_display": true
  },
  "varInspector": {
   "cols": {
    "lenName": 16,
    "lenType": 16,
    "lenVar": 40
   },
   "kernels_config": {
    "python": {
     "delete_cmd_postfix": "",
     "delete_cmd_prefix": "del ",
     "library": "var_list.py",
     "varRefreshCmd": "print(var_dic_list())"
    },
    "r": {
     "delete_cmd_postfix": ") ",
     "delete_cmd_prefix": "rm(",
     "library": "var_list.r",
     "varRefreshCmd": "cat(var_dic_list()) "
    }
   },
   "oldHeight": 194.85,
   "position": {
    "height": "216.85px",
    "left": "1417px",
    "right": "18px",
    "top": "126px",
    "width": "485px"
   },
   "types_to_exclude": [
    "module",
    "function",
    "builtin_function_or_method",
    "instance",
    "_Feature"
   ],
   "varInspector_section_display": "block",
   "window_display": true
  }
 },
 "nbformat": 4,
 "nbformat_minor": 2
}
