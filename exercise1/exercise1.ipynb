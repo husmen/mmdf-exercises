{
 "cells": [
  {
   "cell_type": "markdown",
   "metadata": {},
   "source": [
    "Before you turn this problem in, make sure everything runs as expected. First, **restart the kernel** (in the menubar, select Kernel$\\rightarrow$Restart) and then **run all cells** (in the menubar, select Cell$\\rightarrow$Run All).\n",
    "\n",
    "If a variable is given to you, give your answer to that variable. In case of multiple choice questions, answer to the given variable. Make sure your variable has a **string value** and it contains only the letter of your choice. For example if you think that choice b is the correct choice, and the given variable is answer, your answer should look like this:\n",
    "\n",
    "answer = 'b'\n",
    "\n",
    "or \n",
    "\n",
    "answer = 'B'\n",
    "\n",
    "If you need to read a file for a task, datafiles, such as .csv or .txt files are found in data subfolder. This can be accessed using data/filename.extension. In case of image, they are found in subfolder images. \n",
    "\n",
    "Make sure you fill in any place that says `YOUR CODE HERE` or \"YOUR ANSWER HERE\", as well as your name below:"
   ]
  },
  {
   "cell_type": "code",
   "execution_count": 1,
   "metadata": {},
   "outputs": [],
   "source": [
    "NAME = \"Houssem Menhour\""
   ]
  },
  {
   "cell_type": "markdown",
   "metadata": {},
   "source": [
    "---"
   ]
  },
  {
   "cell_type": "markdown",
   "metadata": {
    "deletable": false,
    "editable": false,
    "nbgrader": {
     "cell_type": "markdown",
     "checksum": "9c8a976ad45f7b83bfbd7933eee99d54",
     "grade": false,
     "grade_id": "cell-c5976fb1869d4e68",
     "locked": true,
     "schema_version": 3,
     "solution": false,
     "task": false
    }
   },
   "source": [
    "# Multi-Modal Data Fusion - Exercise 1: Python tools and data fusion basics"
   ]
  },
  {
   "cell_type": "markdown",
   "metadata": {
    "deletable": false,
    "editable": false,
    "nbgrader": {
     "cell_type": "markdown",
     "checksum": "89e390424d8338cc4b87f632fe1c3b6a",
     "grade": false,
     "grade_id": "cell-dedc33d8ed727b8f",
     "locked": true,
     "schema_version": 3,
     "solution": false,
     "task": false
    }
   },
   "source": [
    "\n",
    "## Learning goals\n",
    "\n",
    "After this exercise, you should\n",
    "\n",
    "- know how to compute and plot PDF and CDF of normal distribution\n",
    "- be able to use decision tree classifier to solve a classification problem\n",
    "- know how to split dataset into training and testing sets and evaluate the performance of the machine learning model using confusion matrix\n",
    "- get familar with data fusion basics\n",
    "- be able to use logistic regression classifier\n",
    "- be able to apply clustering algorithms\n",
    "- be able to model multi-sensor uncertainty in simplified setting\n",
    "\n",
    "## Relevant lecture\n",
    "\n",
    "Lecture 1-2.\n",
    "\n",
    "## Relevant chapters in course book\n",
    "\n",
    "Chapters 1-3.\n",
    "\n",
    "## Additional material\n",
    "\n",
    "- Scipy https://docs.scipy.org/doc/scipy/reference/stats.html\n",
    "- Scikit-learn https://scikit-learn.org/stable/"
   ]
  },
  {
   "cell_type": "markdown",
   "metadata": {
    "deletable": false,
    "editable": false,
    "nbgrader": {
     "cell_type": "markdown",
     "checksum": "8aa4675f22f599c6fd037369cada3404",
     "grade": false,
     "grade_id": "cell-d158559fb139197a",
     "locked": true,
     "schema_version": 3,
     "solution": false,
     "task": false
    }
   },
   "source": [
    "# Tutorial"
   ]
  },
  {
   "cell_type": "markdown",
   "metadata": {
    "deletable": false,
    "editable": false,
    "nbgrader": {
     "cell_type": "markdown",
     "checksum": "bd505a1f828ec26b5b8ac2c09f0546fa",
     "grade": false,
     "grade_id": "cell-e0efd390b0d2225d",
     "locked": true,
     "schema_version": 3,
     "solution": false,
     "task": false
    }
   },
   "source": [
    "## scipy\n",
    "https://docs.scipy.org/doc/scipy/reference/stats.html\n",
    "\n",
    "We discuss another Python module which is useful in many aspects of statistics and probability. Our focus is on the normal distribution $N(\\mu,\\sigma)$"
   ]
  },
  {
   "cell_type": "code",
   "execution_count": 2,
   "metadata": {
    "deletable": false,
    "editable": false,
    "nbgrader": {
     "cell_type": "code",
     "checksum": "756d703c4ca1fe10d644263e852b3b19",
     "grade": false,
     "grade_id": "cell-1f7d3bb0d648188d",
     "locked": true,
     "schema_version": 3,
     "solution": false,
     "task": false
    }
   },
   "outputs": [],
   "source": [
    "from scipy import stats\n",
    "import matplotlib.pyplot as plt\n",
    "import numpy as np\n",
    "import pandas as pd"
   ]
  },
  {
   "cell_type": "markdown",
   "metadata": {
    "deletable": false,
    "editable": false,
    "nbgrader": {
     "cell_type": "markdown",
     "checksum": "bd2d75de2c321636e97fb6cfdf1a0fe9",
     "grade": false,
     "grade_id": "cell-5f14dd1d1b5afc1e",
     "locked": true,
     "schema_version": 3,
     "solution": false,
     "task": false
    }
   },
   "source": [
    "First we have the probability density function (pdf) which we defined ourselves in Exercise 0 and the cumulative distribution function (cdf) which cannot be expressed using elementary functions."
   ]
  },
  {
   "cell_type": "code",
   "execution_count": 3,
   "metadata": {
    "deletable": false,
    "editable": false,
    "nbgrader": {
     "cell_type": "code",
     "checksum": "46a5718304d912bbd26a7a60edb3d8fb",
     "grade": false,
     "grade_id": "cell-e85dfb3e347039e8",
     "locked": true,
     "schema_version": 3,
     "solution": false,
     "task": false
    }
   },
   "outputs": [
    {
     "name": "stdout",
     "output_type": "stream",
     "text": [
      "2.4197072451914337e-01 0.8413447460685429\n"
     ]
    }
   ],
   "source": [
    "p = stats.norm.pdf(1)\n",
    "c = stats.norm.cdf(1)\n",
    "print(p,c)"
   ]
  },
  {
   "cell_type": "markdown",
   "metadata": {
    "deletable": false,
    "editable": false,
    "nbgrader": {
     "cell_type": "markdown",
     "checksum": "dd589189b8792b2147c0a5957310e385",
     "grade": false,
     "grade_id": "cell-8559b1249959c465",
     "locked": true,
     "schema_version": 3,
     "solution": false,
     "task": false
    }
   },
   "source": [
    "In order to get a better understanding of these we plot them.\n",
    "\n",
    "The plot of PDF appearing on Wikipedia page of Gaussian distribution can be prepared as follows:"
   ]
  },
  {
   "cell_type": "code",
   "execution_count": 4,
   "metadata": {
    "deletable": false,
    "editable": false,
    "nbgrader": {
     "cell_type": "code",
     "checksum": "0e09993cdaa8891a0d953bf330272e05",
     "grade": false,
     "grade_id": "cell-e875484986fea34c",
     "locked": true,
     "schema_version": 3,
     "solution": false,
     "task": false
    }
   },
   "outputs": [
    {
     "data": {
      "text/plain": [
       "[<matplotlib.lines.Line2D at 0x7ff190d04cd0>]"
      ]
     },
     "execution_count": 4,
     "metadata": {},
     "output_type": "execute_result"
    },
    {
     "data": {
      "image/png": "[encoded data removed]",
      "text/plain": [
       "<Figure size 432x288 with 1 Axes>"
      ]
     },
     "metadata": {
      "needs_background": "light"
     },
     "output_type": "display_data"
    }
   ],
   "source": [
    "x = np.linspace(-5,5,100)\n",
    "plt.plot(x,stats.norm(0,np.sqrt(0.2)).pdf(x),c=\"blue\")\n",
    "plt.plot(x,stats.norm(-2,np.sqrt(0.5)).pdf(x),c=\"green\")\n",
    "plt.plot(x,stats.norm(0,1).pdf(x),c=\"red\")\n",
    "plt.plot(x,stats.norm(0,np.sqrt(5)).pdf(x),c=\"orange\")"
   ]
  },
  {
   "cell_type": "markdown",
   "metadata": {
    "deletable": false,
    "editable": false,
    "nbgrader": {
     "cell_type": "markdown",
     "checksum": "170256a994d84675ac206f2db7afe80a",
     "grade": false,
     "grade_id": "cell-7ead752d372c91fd",
     "locked": true,
     "schema_version": 3,
     "solution": false,
     "task": false
    }
   },
   "source": [
    "And the same for CDF:"
   ]
  },
  {
   "cell_type": "code",
   "execution_count": 5,
   "metadata": {
    "deletable": false,
    "editable": false,
    "nbgrader": {
     "cell_type": "code",
     "checksum": "58ddd4639cb6756f85ba441153850537",
     "grade": false,
     "grade_id": "cell-86eae9ce0372059a",
     "locked": true,
     "schema_version": 3,
     "solution": false,
     "task": false
    }
   },
   "outputs": [
    {
     "data": {
      "text/plain": [
       "[<matplotlib.lines.Line2D at 0x7ff190bf7fa0>]"
      ]
     },
     "execution_count": 5,
     "metadata": {},
     "output_type": "execute_result"
    },
    {
     "data": {
      "image/png": "[encoded data removed]",
      "text/plain": [
       "<Figure size 432x288 with 1 Axes>"
      ]
     },
     "metadata": {
      "needs_background": "light"
     },
     "output_type": "display_data"
    }
   ],
   "source": [
    "plt.plot(x,stats.norm(0,np.sqrt(0.2)).cdf(x),c=\"blue\")\n",
    "plt.plot(x,stats.norm(-2,np.sqrt(0.5)).cdf(x),c=\"green\")\n",
    "plt.plot(x,stats.norm(0,1).cdf(x),c=\"red\")\n",
    "plt.plot(x,stats.norm(0,np.sqrt(5)).cdf(x),c=\"orange\")\n"
   ]
  },
  {
   "cell_type": "markdown",
   "metadata": {
    "deletable": false,
    "editable": false,
    "nbgrader": {
     "cell_type": "markdown",
     "checksum": "0e5273b2e5fb9f811a9b31f30ecab595",
     "grade": false,
     "grade_id": "cell-6a0792916842d3af",
     "locked": true,
     "schema_version": 3,
     "solution": false,
     "task": false
    }
   },
   "source": [
    "## sklearn"
   ]
  },
  {
   "cell_type": "markdown",
   "metadata": {
    "deletable": false,
    "editable": false,
    "nbgrader": {
     "cell_type": "markdown",
     "checksum": "d5587319563af8484685454823501510",
     "grade": false,
     "grade_id": "cell-9c5e0801d6ea757c",
     "locked": true,
     "schema_version": 3,
     "solution": false,
     "task": false
    }
   },
   "source": [
    "Let us continue to explore some main concepts from machine learning. As a case example we use the iris data set introduced in Exercise 0. Our goal is to predict the last column (species) based on the first four columns containing flower measurements.\n",
    "\n",
    "It is good practice in supervised machine learning to split the original data set into two parts: training and testing sets. Here we use 75 % of the data for training and the rest for testing the performance of the model. sklearn provides handy functions for this too."
   ]
  },
  {
   "cell_type": "code",
   "execution_count": 6,
   "metadata": {
    "deletable": false,
    "editable": false,
    "nbgrader": {
     "cell_type": "code",
     "checksum": "186ce5078898294f699aefc4e05b57af",
     "grade": false,
     "grade_id": "cell-e3816efc01c32317",
     "locked": true,
     "schema_version": 3,
     "solution": false,
     "task": false
    }
   },
   "outputs": [
    {
     "name": "stdout",
     "output_type": "stream",
     "text": [
      "X:\n",
      "   sepal_length  sepal_width  petal_length  petal_width\n",
      "0           5.1          3.5           1.4          0.2\n",
      "1           4.9          3.0           1.4          0.2\n",
      "2           4.7          3.2           1.3          0.2\n",
      "\n",
      "y:\n",
      "0    setosa\n",
      "1    setosa\n",
      "2    setosa\n",
      "Name: species, dtype: object\n",
      "\n",
      "X_train shape:\n",
      "(112, 4)\n",
      "\n",
      "X_test shape:\n",
      "(38, 4)\n"
     ]
    }
   ],
   "source": [
    "df = pd.read_csv('data/iris.csv')\n",
    "X = df.iloc[:, 0:4]\n",
    "y = df.iloc[:, 4]\n",
    "print(\"X:\")\n",
    "print(X.head(3))\n",
    "print(\"\\ny:\")\n",
    "print(y.head(3))\n",
    "\n",
    "from sklearn.model_selection import train_test_split\n",
    "X_train, X_test, y_train, y_test = train_test_split(X,y,test_size=0.25,random_state=0)\n",
    "print(\"\\nX_train shape:\")\n",
    "print(X_train.shape)\n",
    "print(\"\\nX_test shape:\")\n",
    "print(X_test.shape)"
   ]
  },
  {
   "cell_type": "markdown",
   "metadata": {
    "deletable": false,
    "editable": false,
    "nbgrader": {
     "cell_type": "markdown",
     "checksum": "f3723db357ee1cb7063b47db9f8048ea",
     "grade": false,
     "grade_id": "cell-400651a2edf2c6e4",
     "locked": true,
     "schema_version": 3,
     "solution": false,
     "task": false
    }
   },
   "source": [
    "We solve the classification problem now with decision tree classifier."
   ]
  },
  {
   "cell_type": "code",
   "execution_count": 7,
   "metadata": {
    "deletable": false,
    "editable": false,
    "nbgrader": {
     "cell_type": "code",
     "checksum": "96713bc2ce41a10e2e05d269d8947b48",
     "grade": false,
     "grade_id": "cell-9f14333816b14a79",
     "locked": true,
     "schema_version": 3,
     "solution": false,
     "task": false
    }
   },
   "outputs": [],
   "source": [
    "from sklearn.tree import DecisionTreeClassifier\n",
    "\n",
    "model = DecisionTreeClassifier(max_depth = 3, random_state = 1)\n",
    "model.fit(X_train,y_train)\n",
    "prediction = model.predict(X_test)"
   ]
  },
  {
   "cell_type": "markdown",
   "metadata": {
    "deletable": false,
    "editable": false,
    "nbgrader": {
     "cell_type": "markdown",
     "checksum": "69e3d10a41790e67fb1310092c9e9790",
     "grade": false,
     "grade_id": "cell-d52f941de45d189a",
     "locked": true,
     "schema_version": 3,
     "solution": false,
     "task": false
    }
   },
   "source": [
    "When assessing the performance of the model one often uses the confusion matrix in classification problems. In binary classification case this is a 2x2 matrix containing four numbers as follows:\n",
    "\n",
    "\n",
    "|  | P predicted| N predicted |\n",
    "| --- | --- | --- |\n",
    "| P class| TP | FP |\n",
    "| N class| FN | TN |\n",
    "\n",
    "where \n",
    "\n",
    "- TP stands for true positive i.e. correctly predicted trues (or 1's)\n",
    "- TN stands for true negative i.e. correctly predicted falses (or 0's)\n",
    "- FP stands for false positive i.e. incorrectly predicted trues\n",
    "- FN stands for false negative i.e. incorrectly predicted falses.\n",
    "\n",
    "The precision score of the model is the ratio\n",
    "$$\n",
    "\\frac{TP}{TP+FP}\n",
    "$$\n",
    "and accuracy is the ratio\n",
    "$$\n",
    "\\frac{TP+TN}{n}\n",
    "$$\n",
    "\n",
    "\n",
    "These can be extended for non-binary classification problems straightforwardly. In ideal case we would like to have most of the predictions on the diagonal of the confusion matrix.\n",
    "\n",
    "Here is example how to compute and plot the confusion matrix in sklearn."
   ]
  },
  {
   "cell_type": "code",
   "execution_count": 8,
   "metadata": {
    "deletable": false,
    "editable": false,
    "nbgrader": {
     "cell_type": "code",
     "checksum": "889d1929064f8767b1987e6f0c15824b",
     "grade": false,
     "grade_id": "cell-b8d1328f9757cccd",
     "locked": true,
     "schema_version": 3,
     "solution": false,
     "task": false
    }
   },
   "outputs": [
    {
     "name": "stdout",
     "output_type": "stream",
     "text": [
      "[[13  0  0]\n",
      " [ 0 15  1]\n",
      " [ 0  0  9]]\n"
     ]
    },
    {
     "data": {
      "image/png": "[encoded data removed]",
      "text/plain": [
       "<Figure size 432x288 with 2 Axes>"
      ]
     },
     "metadata": {
      "needs_background": "light"
     },
     "output_type": "display_data"
    }
   ],
   "source": [
    "from sklearn import metrics\n",
    "print(metrics.confusion_matrix(y_test,prediction))\n",
    "metrics.ConfusionMatrixDisplay.from_predictions(y_test, prediction)\n",
    "plt.show()"
   ]
  },
  {
   "cell_type": "markdown",
   "metadata": {
    "deletable": false,
    "editable": false,
    "nbgrader": {
     "cell_type": "markdown",
     "checksum": "aff3fe0261af7a47893fe7410242e8a7",
     "grade": false,
     "grade_id": "cell-d42eea0aa441331a",
     "locked": true,
     "schema_version": 3,
     "solution": false,
     "task": false
    }
   },
   "source": [
    "Precision score for each class and accuracy can be found in sklearn's classification report or individually."
   ]
  },
  {
   "cell_type": "code",
   "execution_count": 9,
   "metadata": {
    "deletable": false,
    "editable": false,
    "nbgrader": {
     "cell_type": "code",
     "checksum": "6906de62920fbb04130ee98e7422fc19",
     "grade": false,
     "grade_id": "cell-5a433abbb64e003a",
     "locked": true,
     "schema_version": 3,
     "solution": false,
     "task": false
    }
   },
   "outputs": [
    {
     "name": "stdout",
     "output_type": "stream",
     "text": [
      "              precision    recall  f1-score   support\n",
      "\n",
      "      setosa       1.00      1.00      1.00        13\n",
      "  versicolor       1.00      0.94      0.97        16\n",
      "   virginica       0.90      1.00      0.95         9\n",
      "\n",
      "    accuracy                           0.97        38\n",
      "   macro avg       0.97      0.98      0.97        38\n",
      "weighted avg       0.98      0.97      0.97        38\n",
      "\n",
      "9.736842105263158e-01\n",
      "[1.  1.  0.9]\n"
     ]
    }
   ],
   "source": [
    "print(metrics.classification_report(y_test, prediction))\n",
    "print(metrics.accuracy_score(y_test,prediction))\n",
    "print(metrics.precision_score(y_test,prediction,average=None))"
   ]
  },
  {
   "cell_type": "markdown",
   "metadata": {
    "deletable": false,
    "editable": false,
    "nbgrader": {
     "cell_type": "markdown",
     "checksum": "5134e4b3614654758f238f338cf1cd98",
     "grade": false,
     "grade_id": "cell-32186d8a911f2263",
     "locked": true,
     "schema_version": 3,
     "solution": false,
     "task": false
    }
   },
   "source": [
    "# Assignments\n",
    "Below you will find the assignments to be returned. Use code cells and markdown cells to type your answers where appropriate. "
   ]
  },
  {
   "cell_type": "markdown",
   "metadata": {
    "deletable": false,
    "editable": false,
    "nbgrader": {
     "cell_type": "markdown",
     "checksum": "7b211b80377d82740c02c0e020d881f2",
     "grade": false,
     "grade_id": "cell-452f7bc0d2bb80ee",
     "locked": true,
     "schema_version": 3,
     "solution": false,
     "task": false
    }
   },
   "source": [
    "## Multiple choice questions\n",
    "Indicate one answer clearly to each question. "
   ]
  },
  {
   "cell_type": "markdown",
   "metadata": {
    "deletable": false,
    "editable": false,
    "nbgrader": {
     "cell_type": "markdown",
     "checksum": "14a5a850712e947c4d74a3b6360801f9",
     "grade": false,
     "grade_id": "cell-1e36adf17fa33c6e",
     "locked": true,
     "schema_version": 3,
     "solution": false,
     "task": false
    }
   },
   "source": [
    "<a id='Task1.1'></a>\n",
    "<div class=\" alert alert-warning\">\n",
    "    <b>Problem 1</b>\n",
    "\n",
    "<p>Geographical area is covered with temperature, humidity and vision sensors to assess the probability of forest fires in the area. In terms of data fusion scheme, what is the fusion type of this setup?</p>\n",
    "    \n",
    "<p>A) across sensors</p>\n",
    "    \n",
    "<p>B) across attributes</p>\n",
    "    \n",
    "<p>C) across domains</p>\n",
    "<p>D) across time</p>\n",
    "    \n",
    "    \n",
    "<p>If this test fails, check your answer format. All answers to multiple choice questions should be given by assigning a value to the given variable. The value should be only the letter, no extra whitespace or extra characters such as brackets. </p>\n",
    "\n",
    "</div>"
   ]
  },
  {
   "cell_type": "code",
   "execution_count": 10,
   "metadata": {},
   "outputs": [],
   "source": [
    "# Give your answer as a string with one of the given values\n",
    "answer1 = \"b\"\n",
    "assert answer1.lower() in [\"a\", \"b\", \"c\", \"d\"]"
   ]
  },
  {
   "cell_type": "code",
   "execution_count": 11,
   "metadata": {
    "deletable": false,
    "editable": false,
    "nbgrader": {
     "cell_type": "code",
     "checksum": "eb4bbec4594ee5965f835b386306cb22",
     "grade": true,
     "grade_id": "Problem_1_points",
     "locked": true,
     "points": 0.5,
     "schema_version": 3,
     "solution": false,
     "task": false
    }
   },
   "outputs": [],
   "source": [
    "# Your points for the Problem 1 will be given in this cell. Dont modify it."
   ]
  },
  {
   "cell_type": "markdown",
   "metadata": {
    "deletable": false,
    "editable": false,
    "nbgrader": {
     "cell_type": "markdown",
     "checksum": "4805ff44ec59ffc9b5b38adf7d77ab62",
     "grade": false,
     "grade_id": "cell-f402be7a30a13bca",
     "locked": true,
     "schema_version": 3,
     "solution": false,
     "task": false
    }
   },
   "source": [
    "<a id='Task1.2'></a>\n",
    "<div class=\" alert alert-warning\">\n",
    "    <b>Problem 2</b>\n",
    "\n",
    "    \n",
    "<p> Consider a fusion process where two or more overlaying camera images are fused together to reduce noise in images. What is the sensor configuration in this setup?</p>\n",
    "<p>A) complementary</p>\n",
    "    \n",
    "<p>B) competitive</p>\n",
    "    \n",
    "<p>C) cooperative</p>\n",
    "\n",
    "</div>"
   ]
  },
  {
   "cell_type": "code",
   "execution_count": 12,
   "metadata": {},
   "outputs": [],
   "source": [
    "answer2 = \"a\"\n",
    "assert answer2.lower() in [\"a\", \"b\", \"c\"]"
   ]
  },
  {
   "cell_type": "code",
   "execution_count": 13,
   "metadata": {
    "deletable": false,
    "editable": false,
    "nbgrader": {
     "cell_type": "code",
     "checksum": "a702d50433d9c179d13f1c3b244fb87f",
     "grade": true,
     "grade_id": "Problem_2_points",
     "locked": true,
     "points": 0.5,
     "schema_version": 3,
     "solution": false,
     "task": false
    }
   },
   "outputs": [],
   "source": [
    "# Your points for the Problem 2 will be given in this cell. Do not modify it."
   ]
  },
  {
   "cell_type": "markdown",
   "metadata": {
    "deletable": false,
    "editable": false,
    "nbgrader": {
     "cell_type": "markdown",
     "checksum": "751075dbfc00652a7d0842fc3eaa7e5f",
     "grade": false,
     "grade_id": "cell-1206012244b5b5a7",
     "locked": true,
     "schema_version": 3,
     "solution": false,
     "task": false
    }
   },
   "source": [
    "<a id='Task1.3'></a>\n",
    "<div class=\" alert alert-warning\">\n",
    "    <b>Problem 3</b>\n",
    "\n",
    "    \n",
    "<p> Consider a sensor measuring barometric pressure. The sensor is used to measure altitude, but includes offset to estimate absolute height. What type of sensor error this represents?</p>\n",
    "<p>A) Random error</p>\n",
    "    \n",
    "<p>B) Systematic error</p>\n",
    "    \n",
    "<p>C) Spurious reading error</p>\n",
    "\n",
    "</div>"
   ]
  },
  {
   "cell_type": "code",
   "execution_count": 14,
   "metadata": {},
   "outputs": [],
   "source": [
    "answer3 = \"b\"\n",
    "assert answer3.lower() in [\"a\", \"b\", \"c\"]"
   ]
  },
  {
   "cell_type": "code",
   "execution_count": 15,
   "metadata": {
    "deletable": false,
    "editable": false,
    "nbgrader": {
     "cell_type": "code",
     "checksum": "7f26ea076517c01f874b84f7a4d4cfd6",
     "grade": true,
     "grade_id": "Problem_3_points",
     "locked": true,
     "points": 0.5,
     "schema_version": 3,
     "solution": false,
     "task": false
    }
   },
   "outputs": [],
   "source": [
    "# Your points for the Problem 3 will be given in this cell. Do not modify it."
   ]
  },
  {
   "cell_type": "markdown",
   "metadata": {
    "deletable": false,
    "editable": false,
    "nbgrader": {
     "cell_type": "markdown",
     "checksum": "f3651a80d6fac58e11943d1984486d33",
     "grade": false,
     "grade_id": "cell-868debcea499790f",
     "locked": true,
     "schema_version": 3,
     "solution": false,
     "task": false
    }
   },
   "source": [
    "<a id='Task1.4'></a>\n",
    "<div class=\" alert alert-warning\">\n",
    "    <b>Problem 4</b>\n",
    "\n",
    "    \n",
    "<p> Consider a GPS localization system where noisy measurements are temporally fused with extended Kalman Filter. What type of fusion network architecture this system represents?</p>\n",
    "<p>A) Parallel network system</p>\n",
    "    \n",
    "<p>B) Serial network system </p>\n",
    "    \n",
    "<p>C) Iterative network system</p>\n",
    "\n",
    "</div>"
   ]
  },
  {
   "cell_type": "code",
   "execution_count": 16,
   "metadata": {},
   "outputs": [],
   "source": [
    "answer4 = \"c\"\n",
    "assert answer4.lower() in [\"a\", \"b\", \"c\"]"
   ]
  },
  {
   "cell_type": "code",
   "execution_count": 17,
   "metadata": {
    "deletable": false,
    "editable": false,
    "nbgrader": {
     "cell_type": "code",
     "checksum": "5dbb1af4e0270dd42ffe7e7197303e81",
     "grade": true,
     "grade_id": "Problem_4_points",
     "locked": true,
     "points": 0.5,
     "schema_version": 3,
     "solution": false,
     "task": false
    }
   },
   "outputs": [],
   "source": [
    "# Your points for the Problem 4 will be given in this cell. Do not modify it."
   ]
  },
  {
   "cell_type": "markdown",
   "metadata": {
    "deletable": false,
    "editable": false,
    "nbgrader": {
     "cell_type": "markdown",
     "checksum": "a22052f6265b19e212d0a571982c4492",
     "grade": false,
     "grade_id": "cell-01458e8832f96a25",
     "locked": true,
     "schema_version": 3,
     "solution": false,
     "task": false
    }
   },
   "source": [
    "<a id='Task1.5'></a>\n",
    "<div class=\" alert alert-warning\">\n",
    "    <b>Problem 5</b>\n",
    "\n",
    "    \n",
    "<p> Put in order (from best to worst) the fusion topologies based on how they can handle the redudant information processing problem</p>\n",
    "<p>A) Centralized fusion</p>\n",
    "    \n",
    "<p>B) Decentralized fusion</p>\n",
    "    \n",
    "<p>C) Hierarchical fusion</p>\n",
    "\n",
    "<p> Give your answer as a list with the best option first. The elements should be given as instructed in the first question.</p>\n",
    "</div>"
   ]
  },
  {
   "cell_type": "code",
   "execution_count": 18,
   "metadata": {},
   "outputs": [],
   "source": [
    "# Give your answer as a list containing string elements with value a, b or c, from best to worst \n",
    "answer5 = ['a', 'c', 'b'] # Your answer here"
   ]
  },
  {
   "cell_type": "code",
   "execution_count": 19,
   "metadata": {
    "deletable": false,
    "editable": false,
    "nbgrader": {
     "cell_type": "code",
     "checksum": "309cada680c697fb77d4b9fc37cd6926",
     "grade": true,
     "grade_id": "Problem_5_points",
     "locked": true,
     "points": 0.5,
     "schema_version": 3,
     "solution": false,
     "task": false
    }
   },
   "outputs": [],
   "source": [
    "# Your points for the Problem 5 will be given in this cell. Do not modify it."
   ]
  },
  {
   "cell_type": "markdown",
   "metadata": {
    "deletable": false,
    "editable": false,
    "nbgrader": {
     "cell_type": "markdown",
     "checksum": "0efbb01f5f808f8be35c9ecac3c3f98d",
     "grade": false,
     "grade_id": "cell-643016b656308b9b",
     "locked": true,
     "schema_version": 3,
     "solution": false,
     "task": false
    }
   },
   "source": [
    "## scipy"
   ]
  },
  {
   "cell_type": "markdown",
   "metadata": {
    "deletable": false,
    "editable": false,
    "nbgrader": {
     "cell_type": "markdown",
     "checksum": "9fd22adbf08707b761ddca2b5a3011cd",
     "grade": false,
     "grade_id": "cell-9a98acc34ceb70b9",
     "locked": true,
     "schema_version": 3,
     "solution": false,
     "task": false
    }
   },
   "source": [
    "Use Python (and its modules) to answer to the following problems."
   ]
  },
  {
   "cell_type": "markdown",
   "metadata": {
    "deletable": false,
    "editable": false,
    "nbgrader": {
     "cell_type": "markdown",
     "checksum": "f1aea1d15b4a5d4c0f07e7947d8c2237",
     "grade": false,
     "grade_id": "cell-32ec5b0531b76716",
     "locked": true,
     "schema_version": 3,
     "solution": false,
     "task": false
    }
   },
   "source": [
    "<a id='Task1.1'></a>\n",
    "<div class=\" alert alert-warning\">\n",
    "    <b>Problem 6</b>\n",
    "\n",
    "<p>Consider the standard normal distribution with zero mean and unit standard deviation. About 68 % of the values drawn from the distribution are within one standard deviation away from the mean. How large portion of the values are within 1.5 standard deviations from the mean? Plot the probability distribution function and shade the area corresponding to this portion. Your plot should look something like in the cell below. You are free to choose your own colors, axis labels, titles etc.\n",
    "</p>\n",
    "<br>\n",
    "<p>Calculate and return value of portion in function calculate_portion() below</p> \n",
    "\n",
    "</div>"
   ]
  },
  {
   "cell_type": "code",
   "execution_count": 20,
   "metadata": {
    "deletable": false,
    "editable": false,
    "nbgrader": {
     "cell_type": "code",
     "checksum": "494c4b1f17cfb3fb794edb92949295d6",
     "grade": false,
     "grade_id": "cell-dfce83a7353e9ca3",
     "locked": true,
     "schema_version": 3,
     "solution": false,
     "task": false
    }
   },
   "outputs": [
    {
     "data": {
      "image/png": "[encoded data removed]",
      "text/plain": [
       "<IPython.core.display.Image object>"
      ]
     },
     "execution_count": 20,
     "metadata": {},
     "output_type": "execute_result"
    }
   ],
   "source": [
    "# Example image required for problem 6\n",
    "from IPython.display import Image\n",
    "Image(filename='images/norm_shaded.png')"
   ]
  },
  {
   "cell_type": "code",
   "execution_count": 21,
   "metadata": {
    "deletable": false,
    "nbgrader": {
     "cell_type": "code",
     "checksum": "facea91cdbd141f9b9a549568c8d1b11",
     "grade": false,
     "grade_id": "problem_6",
     "locked": false,
     "schema_version": 3,
     "solution": true,
     "task": false
    }
   },
   "outputs": [
    {
     "data": {
      "text/plain": [
       "8.663855974622838e-01"
      ]
     },
     "execution_count": 21,
     "metadata": {},
     "output_type": "execute_result"
    },
    {
     "data": {
      "image/png": "[encoded data removed]",
      "text/plain": [
       "<Figure size 432x288 with 1 Axes>"
      ]
     },
     "metadata": {
      "needs_background": "light"
     },
     "output_type": "display_data"
    }
   ],
   "source": [
    "def calculate_portion():\n",
    "    # Calculate and return the portion of the values within 1.5 standard deviations from the mean. \n",
    "    \n",
    "    # Do NOT return a percentage. The value returned should be between 0 and 1. \n",
    "    \n",
    "    # YOUR CODE HERE\n",
    "    mean = 0\n",
    "    std = 1\n",
    "    portion = stats.norm(mean,std).cdf(mean + 1.5 * std) - stats.norm(mean,std).cdf(mean - 1.5 * std)\n",
    "    \n",
    "    x = np.linspace(-4,4,100)\n",
    "    plt.plot(x,stats.norm(mean,std).pdf(x))\n",
    "    \n",
    "    x2 = np.linspace(-1.5, 1.5, 30)\n",
    "    plt.fill_between(x2, stats.norm(mean,std).pdf(x2))\n",
    "    \n",
    "    return portion\n",
    "\n",
    "calculate_portion()"
   ]
  },
  {
   "cell_type": "code",
   "execution_count": 22,
   "metadata": {
    "deletable": false,
    "editable": false,
    "nbgrader": {
     "cell_type": "code",
     "checksum": "41003e9d340bb25752a53db1574da494",
     "grade": true,
     "grade_id": "Problem_6_points",
     "locked": true,
     "points": 1.5,
     "schema_version": 3,
     "solution": false,
     "task": false
    }
   },
   "outputs": [],
   "source": [
    "# Your points for the Problem 6 will be given in this cell. Do not modify it."
   ]
  },
  {
   "cell_type": "markdown",
   "metadata": {
    "deletable": false,
    "editable": false,
    "nbgrader": {
     "cell_type": "markdown",
     "checksum": "9275fb6c2cbe788f6fa64c27e8a9c729",
     "grade": false,
     "grade_id": "cell-1d54efbc86504b18",
     "locked": true,
     "schema_version": 3,
     "solution": false,
     "task": false
    }
   },
   "source": [
    "## sklearn"
   ]
  },
  {
   "cell_type": "markdown",
   "metadata": {
    "deletable": false,
    "editable": false,
    "nbgrader": {
     "cell_type": "markdown",
     "checksum": "0020f3618881129f09aa522c6f20d5aa",
     "grade": false,
     "grade_id": "cell-118fb2df29227d49",
     "locked": true,
     "schema_version": 3,
     "solution": false,
     "task": false
    }
   },
   "source": [
    "<a id='Task1.1'></a>\n",
    "<div class=\" alert alert-warning\">\n",
    "    <b>Problem 7</b>\n",
    "\n",
    "<p>Consider the dataset containing peoples heights (inches) and weights (pounds). Make all the following steps in predict_sex -function given in the cell below</p>\n",
    "<p>a) Plot in same figure the observations corresponding to males and females separately. Use different color for these classes.</p>\n",
    "<p>b) Choose sex for target variable and weight and height for explanatory variables.</p>\n",
    "<p>c) Split dataset into training set and test set with 80/20 ratio. Use test_size = 0.2 and random_state = 0</p>\n",
    "<p>d) Train logistic regression classifier from sklearn with training data.</p>\n",
    "<p>e) Plot confusion matrix of your trained model.</p>\n",
    "<p>f) Predict sex of a person whose height is 190.5 cm (75 in) and weight is 102 kg (225 lbs).</p>\n",
    "</div>\n"
   ]
  },
  {
   "cell_type": "code",
   "execution_count": 23,
   "metadata": {
    "deletable": false,
    "nbgrader": {
     "cell_type": "code",
     "checksum": "bf91c1db58c7067eccc0d476774fa9fd",
     "grade": false,
     "grade_id": "Problem_7",
     "locked": false,
     "schema_version": 3,
     "solution": true,
     "task": false
    }
   },
   "outputs": [
    {
     "data": {
      "image/png": "[encoded data removed]",
      "text/plain": [
       "<Figure size 720x720 with 1 Axes>"
      ]
     },
     "metadata": {
      "needs_background": "light"
     },
     "output_type": "display_data"
    },
    {
     "data": {
      "image/png": "[encoded data removed]",
      "text/plain": [
       "<Figure size 432x288 with 2 Axes>"
      ]
     },
     "metadata": {
      "needs_background": "light"
     },
     "output_type": "display_data"
    }
   ],
   "source": [
    "from sklearn.linear_model import LogisticRegression\n",
    "import pandas as pd\n",
    "import matplotlib.pyplot as plt\n",
    "np.random.seed(0) # Do not change or remove\n",
    "\n",
    "def predict_sex(height, weight):\n",
    "    \n",
    "    # Read the data data/weight-height.csv to a variable using pandas\n",
    "    # a) Plot in same figure the observations corresponding to males and females separately. Use different color for these classes \n",
    "    # b) Choose sex for target variable and weight and height for explanatory variables.\n",
    "    # c) Split the data to a train and test sets. Use test_size = 0.2 and random_state = 0\n",
    "    # d) Train logistic regression classifier from sklearn with training data.\n",
    "    # e) Plot confusion matrix of your trained model.\n",
    "    # f) Predict sex of a person whose height is 190.5 cm (75 in) and weight is 102 kg (225 lbs).\n",
    "    \n",
    "    # Return single prediction and confusion matrix\n",
    "    \n",
    "    # Hint! See the tutorial above for example of the confusion matrix. Remember to assign a value to a variable. \n",
    "    \n",
    "    # YOUR CODE HERE\n",
    "    df = pd.read_csv('data/weight-height.csv')\n",
    "    df_male = df[df['Gender']=='Male']\n",
    "    df_female = df[df['Gender']=='Female']\n",
    "\n",
    "    plt.figure(figsize=(10, 10))\n",
    "    plt.scatter(df_male['Height'], df_male['Weight'], c='blue', alpha=0.1, label='Male')\n",
    "    plt.scatter(df_female['Height'], df_female['Weight'], c='orange', alpha=0.1, label='Female')\n",
    "    plt.legend()\n",
    "    plt.xlabel('Height (in)')\n",
    "    plt.ylabel('Weight (lb)')\n",
    "    \n",
    "    X = df[['Height', 'Weight']]\n",
    "    y = df['Gender']\n",
    "\n",
    "    X_train, X_test, y_train, y_test = train_test_split(X,y,test_size=0.2,random_state=0)\n",
    "\n",
    "    clf = LogisticRegression()\n",
    "    clf.fit(X_train, y_train)\n",
    "\n",
    "    predictions = clf.predict(X_test)\n",
    "\n",
    "    confusion_matrix = metrics.confusion_matrix(y_test,predictions)\n",
    "    metrics.ConfusionMatrixDisplay.from_predictions(y_test, predictions)\n",
    "    plt.show()\n",
    "    \n",
    "    # Single datapoint that should be used for the prediction\n",
    "    x_single = pd.DataFrame([[height,weight]], columns = ['Height', 'Weight'])\n",
    "    # You can test other the prediction of other datapoints by giving different height and weight in the function call. Do NOT change OR remove the line above!\n",
    "    \n",
    "    # YOUR CODE HERE\n",
    "    prediction = clf.predict(x_single)[0]\n",
    "    \n",
    "    return prediction, confusion_matrix\n",
    "\n",
    "pred, matrix = predict_sex(75,225)"
   ]
  },
  {
   "cell_type": "code",
   "execution_count": 24,
   "metadata": {
    "deletable": false,
    "editable": false,
    "nbgrader": {
     "cell_type": "code",
     "checksum": "9ac96b699ff46e8e7bab48640618981a",
     "grade": true,
     "grade_id": "Problem_7_pred_dataplot_points",
     "locked": true,
     "points": 1.5,
     "schema_version": 3,
     "solution": false,
     "task": false
    }
   },
   "outputs": [],
   "source": [
    "# Your points for the Problem 7 prediction and data plot part will be given in this cell. Do not modify it."
   ]
  },
  {
   "cell_type": "code",
   "execution_count": 25,
   "metadata": {
    "deletable": false,
    "editable": false,
    "nbgrader": {
     "cell_type": "code",
     "checksum": "6d3ed6858ec6504b6b87edeb8ab757bd",
     "grade": true,
     "grade_id": "Problem_7_confusion_matrix_points",
     "locked": true,
     "points": 0.5,
     "schema_version": 3,
     "solution": false,
     "task": false
    }
   },
   "outputs": [],
   "source": [
    "# Your points for the Problem 7 confusion matrix part will be given in this cell. Do not modify it."
   ]
  },
  {
   "cell_type": "markdown",
   "metadata": {
    "deletable": false,
    "editable": false,
    "nbgrader": {
     "cell_type": "markdown",
     "checksum": "c52692cea2a26f8edc93c7abe604ce2c",
     "grade": false,
     "grade_id": "cell-7c3878641c5baf3b",
     "locked": true,
     "schema_version": 3,
     "solution": false,
     "task": false
    }
   },
   "source": [
    "<a id='Task1.1'></a>\n",
    "<div class=\" alert alert-warning\">\n",
    "    <b>Problem 8</b>\n",
    "\n",
    "<p>Consider the dataset from file bananas.csv</p>\n",
    "    <p>a) Plot all observations from second column (y-value) against the first column (x-value) in black dots.</p>\n",
    "    <p>b) Apply K-means clustering algorithm from sklearn with 2 clusters. Save the labels returned by KMeans to variable labels1. Plot the resulting class labels with different colors in same figure. So: dots labeled 1 in one color and dots labeled 0 in another color.\n",
    "    </p>\n",
    "    <p>c) Apply spectral clustering algorithm from sklearn with 2 clusters and parameter affinity='nearest_neighbors'. Save the labels returned by SpectralClustering to variable labels2. Plot labels as in step b).</p>\n",
    " <p>d) Interpret results by comparing the outcomes of the two algorithms.</p>\n",
    "</div>"
   ]
  },
  {
   "cell_type": "code",
   "execution_count": 26,
   "metadata": {
    "deletable": false,
    "nbgrader": {
     "cell_type": "code",
     "checksum": "ad130bc88098394625d0b3ebd3c2e8ca",
     "grade": false,
     "grade_id": "Problem_8_a_b",
     "locked": false,
     "schema_version": 3,
     "solution": true,
     "task": false
    }
   },
   "outputs": [
    {
     "data": {
      "image/png": "[encoded data removed]",
      "text/plain": [
       "<Figure size 864x432 with 2 Axes>"
      ]
     },
     "metadata": {
      "needs_background": "light"
     },
     "output_type": "display_data"
    }
   ],
   "source": [
    "from sklearn.cluster import KMeans\n",
    "np.random.seed(0) # Do not change this\n",
    "\n",
    "# Answer to questions a and b in this cell\n",
    "\n",
    "# YOUR CODE HERE\n",
    "df = pd.read_csv('data/bananas.csv')\n",
    "kmeans = KMeans(n_clusters=2, random_state=0).fit(df)\n",
    "\n",
    "plt.figure(figsize=(12, 6))\n",
    "plt.subplot(121)\n",
    "plt.scatter(df['x'], df['y'], c='black')\n",
    "plt.subplot(122)\n",
    "plt.scatter(df['x'], df['y'], c=kmeans.labels_)\n",
    "\n",
    "labels1 = kmeans.labels_ # K-means clustering"
   ]
  },
  {
   "cell_type": "code",
   "execution_count": 27,
   "metadata": {
    "deletable": false,
    "editable": false,
    "nbgrader": {
     "cell_type": "code",
     "checksum": "e9f8ab4614ec30107efc5c3c49cf5d79",
     "grade": true,
     "grade_id": "Problem_8_a_b_points",
     "locked": true,
     "points": 0.75,
     "schema_version": 3,
     "solution": false,
     "task": false
    }
   },
   "outputs": [],
   "source": [
    "# Your points for the questions a and b will be given in this cell. Do not modify it."
   ]
  },
  {
   "cell_type": "code",
   "execution_count": 28,
   "metadata": {
    "deletable": false,
    "nbgrader": {
     "cell_type": "code",
     "checksum": "f65c30e4e9717ef540f9e85b22794575",
     "grade": false,
     "grade_id": "problem_8_c",
     "locked": false,
     "schema_version": 3,
     "solution": true,
     "task": false
    }
   },
   "outputs": [
    {
     "name": "stderr",
     "output_type": "stream",
     "text": [
      "/opt/anaconda/anaconda3/lib/python3.9/site-packages/sklearn/manifold/_spectral_embedding.py:260: UserWarning: Graph is not fully connected, spectral embedding may not work as expected.\n",
      "  warnings.warn(\n"
     ]
    },
    {
     "data": {
      "image/png": "[encoded data removed]",
      "text/plain": [
       "<Figure size 864x432 with 2 Axes>"
      ]
     },
     "metadata": {
      "needs_background": "light"
     },
     "output_type": "display_data"
    }
   ],
   "source": [
    "from sklearn.cluster import SpectralClustering\n",
    "np.random.seed(0)\n",
    "\n",
    "# Answer to question c in this cell\n",
    "\n",
    "# YOUR CODE HERE\n",
    "spectral = SpectralClustering(n_clusters=2, affinity='nearest_neighbors', random_state=0).fit(df)\n",
    "\n",
    "plt.figure(figsize=(12, 6))\n",
    "plt.subplot(121)\n",
    "plt.scatter(df['x'], df['y'], c='black')\n",
    "plt.subplot(122)\n",
    "plt.scatter(df['x'], df['y'], c=spectral.labels_)\n",
    "\n",
    "labels2 = spectral.labels_ # Spectral Clustering"
   ]
  },
  {
   "cell_type": "code",
   "execution_count": 29,
   "metadata": {
    "deletable": false,
    "editable": false,
    "nbgrader": {
     "cell_type": "code",
     "checksum": "0eab443af041d070459601fad158cb3a",
     "grade": true,
     "grade_id": "problem_8_c_points",
     "locked": true,
     "points": 0.75,
     "schema_version": 3,
     "solution": false,
     "task": false
    }
   },
   "outputs": [],
   "source": [
    "# Your points for the question c will be given in this cell. Do not modify it."
   ]
  },
  {
   "cell_type": "markdown",
   "metadata": {
    "deletable": false,
    "editable": false,
    "nbgrader": {
     "cell_type": "markdown",
     "checksum": "94ec833ab0052552fff794c0f4a5c8cc",
     "grade": false,
     "grade_id": "cell-d5b85636f750739e",
     "locked": true,
     "schema_version": 3,
     "solution": false,
     "task": false
    }
   },
   "source": [
    "**Write your answer in the cell below to question d: Interpret results by comparing the outcomes of the two algorithms.**"
   ]
  },
  {
   "cell_type": "markdown",
   "metadata": {
    "deletable": false,
    "nbgrader": {
     "cell_type": "markdown",
     "checksum": "cd65186a9ae2a482542d565ba99ce09c",
     "grade": true,
     "grade_id": "Problem_8_d",
     "locked": false,
     "points": 0.5,
     "schema_version": 3,
     "solution": true,
     "task": false
    }
   },
   "source": [
    "K-Means finds the center of each cluster and the spread of each point from it, this method does not work well for non-convex clusters e.g. nested circles. Spectral Clustering on the other hand can solve this problem resulting in a much better and accurate clustering."
   ]
  },
  {
   "cell_type": "markdown",
   "metadata": {
    "deletable": false,
    "editable": false,
    "nbgrader": {
     "cell_type": "markdown",
     "checksum": "fe5da98c28168237f15e6a2dc73e29d9",
     "grade": false,
     "grade_id": "cell-adf75f5dcb1578da",
     "locked": true,
     "schema_version": 3,
     "solution": false,
     "task": false
    }
   },
   "source": [
    "## Multi-sensor spurious measurement"
   ]
  },
  {
   "cell_type": "markdown",
   "metadata": {
    "deletable": false,
    "editable": false,
    "nbgrader": {
     "cell_type": "markdown",
     "checksum": "8a645f34cd034dcd65bcb456cda16bef",
     "grade": false,
     "grade_id": "cell-223788603570599a",
     "locked": true,
     "schema_version": 3,
     "solution": false,
     "task": false
    }
   },
   "source": [
    "<a id='Task1.9'></a>\n",
    "<div class=\" alert alert-warning\">\n",
    "    <b>Problem 9</b>\n",
    "\n",
    "<p>Let's consider multiple sensors measuring temperature. Calculate the probability of each measurement being spurious when measurements are $\\mathbf{y} = [10, 11, 9, 25, 12]$ and their confidence $\\mathbf{\\sigma} = [2, 2, 3, 5, 2]$. Model parameter $\\theta$ is fixed to MAP estimate of measurements $\\mathbf{y}$. Use equations in slides 19-21 (Lecture 2). $\\beta_k$ values can be fixed to bound given in eq. in slide 21 (i.e. $\\beta_k^2 = 2\\sigma_k^2 \\prod_{l=1,l \\ne k}^K (y_k - y_l)^2$). Implement your solution to the given function stubs and evaluate/print how good the measurements are based on the estimated probabilities.</p>\n",
    "\n",
    "</div>"
   ]
  },
  {
   "cell_type": "code",
   "execution_count": 30,
   "metadata": {
    "deletable": false,
    "nbgrader": {
     "cell_type": "code",
     "checksum": "48c0f3206f6e3cee68657ed7ab1054a4",
     "grade": false,
     "grade_id": "Problem_9_get_beta",
     "locked": false,
     "schema_version": 3,
     "solution": true,
     "task": false
    }
   },
   "outputs": [],
   "source": [
    "import numpy as np\n",
    "\n",
    "# calculate betas\n",
    "def get_beta(y, sigma):\n",
    "    ## IMPLEMENT YOUR SOLUTION HERE ##\n",
    "    beta = []\n",
    "    \n",
    "    # YOUR CODE HERE\n",
    "    for k in range(len(y)):\n",
    "        beta.append(np.sqrt(2*sigma[k]**2*np.prod([(y[k] - y[i])**2 for i in range(len(y)) if i != k])))\n",
    "    \n",
    "    return beta"
   ]
  },
  {
   "cell_type": "code",
   "execution_count": 31,
   "metadata": {
    "deletable": false,
    "editable": false,
    "nbgrader": {
     "cell_type": "code",
     "checksum": "58e3e4ba28ace7f7cb0a00720a54e78b",
     "grade": true,
     "grade_id": "Problem_9_get_beta_points",
     "locked": true,
     "points": 0.5,
     "schema_version": 3,
     "solution": false,
     "task": false
    }
   },
   "outputs": [],
   "source": [
    "# Your points for the function get_beta implementation will be given in this cell. Do not modify it."
   ]
  },
  {
   "cell_type": "code",
   "execution_count": 32,
   "metadata": {
    "deletable": false,
    "nbgrader": {
     "cell_type": "code",
     "checksum": "02d87772d0a2c3e88c7152f046bc32a4",
     "grade": false,
     "grade_id": "Problem_9_get_alpha",
     "locked": false,
     "schema_version": 3,
     "solution": true,
     "task": false
    }
   },
   "outputs": [],
   "source": [
    "# calculate alphas\n",
    "def get_alpha(y, beta):\n",
    "    ## IMPLEMENT YOUR SOLUTION HERE ##\n",
    "    alpha = []\n",
    "    \n",
    "    # YOUR CODE HERE\n",
    "    for k in range(len(y)):\n",
    "        alpha.append(beta[k]**2/np.prod([(y[k] - y[i])**2 for i in range(len(y)) if i != k]))\n",
    "    \n",
    "    return alpha"
   ]
  },
  {
   "cell_type": "code",
   "execution_count": 33,
   "metadata": {
    "deletable": false,
    "editable": false,
    "nbgrader": {
     "cell_type": "code",
     "checksum": "4777c854f23b003646fd508bc4684877",
     "grade": true,
     "grade_id": "Problem_9_get_alpha_points",
     "locked": true,
     "points": 0.5,
     "schema_version": 3,
     "solution": false,
     "task": false
    }
   },
   "outputs": [],
   "source": [
    "# Your points for the function get_alpha implementation will be given in this cell. Do not modify it."
   ]
  },
  {
   "cell_type": "code",
   "execution_count": 34,
   "metadata": {
    "deletable": false,
    "nbgrader": {
     "cell_type": "code",
     "checksum": "324f45b63166a630a5d40556427951e4",
     "grade": false,
     "grade_id": "Problem_9_probs",
     "locked": false,
     "schema_version": 3,
     "solution": true,
     "task": false
    }
   },
   "outputs": [
    {
     "name": "stdout",
     "output_type": "stream",
     "text": [
      "Probabilities:  [1.5503562994591547e-02, 0.0, 0.012269783764389475, 0.0754054852397893, 0.015503562994591547]\n"
     ]
    }
   ],
   "source": [
    "# calculate probabilities\n",
    "def probability_of_spurious_measurement(theta, y, sigma):\n",
    "    ## IMPLEMENT YOUR SOLUTION HERE ##\n",
    "    b = get_beta(y, sigma)\n",
    "    a = get_alpha(y, b)\n",
    "    probs = []\n",
    "    # YOUR CODE HERE\n",
    "    probs = [1 - np.exp(-((theta - y[k])/a[k])**2) for k in range(len(y))]\n",
    "    return probs\n",
    "\n",
    "y = np.array([10, 11, 9, 25, 12])\n",
    "sigma = np.array([2, 2, 3, 5, 2])\n",
    "theta = 11\n",
    "print('Probabilities: ', probability_of_spurious_measurement(theta, y, sigma))"
   ]
  },
  {
   "cell_type": "code",
   "execution_count": 35,
   "metadata": {
    "deletable": false,
    "editable": false,
    "nbgrader": {
     "cell_type": "code",
     "checksum": "a6554b6a3b3d352b8f501823285fbed6",
     "grade": true,
     "grade_id": "Problem_9_probs_points",
     "locked": true,
     "points": 1,
     "schema_version": 3,
     "solution": false,
     "task": false
    }
   },
   "outputs": [],
   "source": [
    "# Your points for the function probability_of_spurious_measurement implementation will be given in this cell. Do not modify it."
   ]
  }
 ],
 "metadata": {
  "kernelspec": {
   "display_name": "Python 3 (ipykernel)",
   "language": "python",
   "name": "python3"
  },
  "language_info": {
   "codemirror_mode": {
    "name": "ipython",
    "version": 3
   },
   "file_extension": ".py",
   "mimetype": "text/x-python",
   "name": "python",
   "nbconvert_exporter": "python",
   "pygments_lexer": "ipython3",
   "version": "3.9.12"
  },
  "nbdime-conflicts": {
   "local_diff": [
    {
     "diff": [
      {
       "diff": [
        {
         "diff": [
          {
           "key": 4,
           "op": "addrange",
           "valuelist": "3"
          },
          {
           "key": 4,
           "length": 1,
           "op": "removerange"
          }
         ],
         "key": 0,
         "op": "patch"
        }
       ],
       "key": "version",
       "op": "patch"
      }
     ],
     "key": "language_info",
     "op": "patch"
    }
   ],
   "remote_diff": [
    {
     "diff": [
      {
       "diff": [
        {
         "diff": [
          {
           "key": 4,
           "op": "addrange",
           "valuelist": "4"
          },
          {
           "key": 4,
           "length": 1,
           "op": "removerange"
          }
         ],
         "key": 0,
         "op": "patch"
        }
       ],
       "key": "version",
       "op": "patch"
      }
     ],
     "key": "language_info",
     "op": "patch"
    }
   ]
  },
  "toc": {
   "base_numbering": 1,
   "nav_menu": {},
   "number_sections": false,
   "sideBar": true,
   "skip_h1_title": false,
   "title_cell": "Table of Contents",
   "title_sidebar": "Contents",
   "toc_cell": false,
   "toc_position": {
    "height": "507.275px",
    "left": "23.975px",
    "top": "145.5px",
    "width": "318px"
   },
   "toc_section_display": true,
   "toc_window_display": true
  },
  "varInspector": {
   "cols": {
    "lenName": 16,
    "lenType": 16,
    "lenVar": 40
   },
   "kernels_config": {
    "python": {
     "delete_cmd_postfix": "",
     "delete_cmd_prefix": "del ",
     "library": "var_list.py",
     "varRefreshCmd": "print(var_dic_list())"
    },
    "r": {
     "delete_cmd_postfix": ") ",
     "delete_cmd_prefix": "rm(",
     "library": "var_list.r",
     "varRefreshCmd": "cat(var_dic_list()) "
    }
   },
   "oldHeight": 194.85,
   "position": {
    "height": "216.85px",
    "left": "1417px",
    "right": "18px",
    "top": "126px",
    "width": "485px"
   },
   "types_to_exclude": [
    "module",
    "function",
    "builtin_function_or_method",
    "instance",
    "_Feature"
   ],
   "varInspector_section_display": "block",
   "window_display": true
  }
 },
 "nbformat": 4,
 "nbformat_minor": 2
}
